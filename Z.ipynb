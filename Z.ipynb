{
  "nbformat": 4,
  "nbformat_minor": 0,
  "metadata": {
    "colab": {
      "provenance": [],
      "authorship_tag": "ABX9TyN016nqjnraUuqSCN+5YWsV",
      "include_colab_link": true
    },
    "kernelspec": {
      "name": "python3",
      "display_name": "Python 3"
    },
    "language_info": {
      "name": "python"
    }
  },
  "cells": [
    {
      "cell_type": "markdown",
      "metadata": {
        "id": "view-in-github",
        "colab_type": "text"
      },
      "source": [
        "<a href=\"https://colab.research.google.com/github/newmantic/Z/blob/main/Z.ipynb\" target=\"_parent\"><img src=\"https://colab.research.google.com/assets/colab-badge.svg\" alt=\"Open In Colab\"/></a>"
      ]
    },
    {
      "cell_type": "code",
      "execution_count": 1,
      "metadata": {
        "id": "1n56JMJipdgQ"
      },
      "outputs": [],
      "source": [
        "class ZAlgorithm:\n",
        "    def __init__(self, text):\n",
        "        \"\"\"\n",
        "        Initialize the Z-Algorithm with the given text.\n",
        "        :param text: The text for which the Z-array will be computed.\n",
        "        \"\"\"\n",
        "        self.text = text\n",
        "        self.z_array = self.compute_z_array(text)\n",
        "\n",
        "    def compute_z_array(self, text):\n",
        "        \"\"\"\n",
        "        Compute the Z-array for the given text.\n",
        "        :param text: The input text for which to compute the Z-array.\n",
        "        :return: The Z-array.\n",
        "        \"\"\"\n",
        "        n = len(text)\n",
        "        z = [0] * n\n",
        "        left, right, k = 0, 0, 0\n",
        "\n",
        "        for i in range(1, n):\n",
        "            if i > right:\n",
        "                left, right = i, i\n",
        "                while right < n and text[right] == text[right - left]:\n",
        "                    right += 1\n",
        "                z[i] = right - left\n",
        "                right -= 1\n",
        "            else:\n",
        "                k = i - left\n",
        "                if z[k] < right - i + 1:\n",
        "                    z[i] = z[k]\n",
        "                else:\n",
        "                    left = i\n",
        "                    while right < n and text[right] == text[right - left]:\n",
        "                        right += 1\n",
        "                    z[i] = right - left\n",
        "                    right -= 1\n",
        "\n",
        "        return z\n",
        "\n",
        "    def search_pattern(self, pattern):\n",
        "        \"\"\"\n",
        "        Search for a pattern in the text using the Z-algorithm.\n",
        "        :param pattern: The pattern to search for in the text.\n",
        "        :return: A list of starting indices where the pattern is found in the text.\n",
        "        \"\"\"\n",
        "        concatenated = pattern + \"$\" + self.text\n",
        "        z_concat = self.compute_z_array(concatenated)\n",
        "        pattern_length = len(pattern)\n",
        "        result = []\n",
        "\n",
        "        for i in range(pattern_length + 1, len(z_concat)):\n",
        "            if z_concat[i] == pattern_length:\n",
        "                result.append(i - pattern_length - 1)\n",
        "\n",
        "        return result"
      ]
    },
    {
      "cell_type": "code",
      "source": [
        "def test_case_1():\n",
        "    text = \"abacabadabacaba\"\n",
        "    pattern = \"abac\"\n",
        "    z_algo = ZAlgorithm(text)\n",
        "    result = z_algo.search_pattern(pattern)\n",
        "    print(f\"Pattern found at indices: {result}\")  # Expected: [0, 7]\n",
        "\n",
        "test_case_1()"
      ],
      "metadata": {
        "colab": {
          "base_uri": "https://localhost:8080/"
        },
        "id": "6CFNPSKEpsBA",
        "outputId": "39bc784c-ed19-4d7a-b7e7-2f10385031bd"
      },
      "execution_count": 2,
      "outputs": [
        {
          "output_type": "stream",
          "name": "stdout",
          "text": [
            "Pattern found at indices: [0, 8]\n"
          ]
        }
      ]
    },
    {
      "cell_type": "code",
      "source": [
        "def test_case_2():\n",
        "    text = \"aaaaa\"\n",
        "    pattern = \"aa\"\n",
        "    z_algo = ZAlgorithm(text)\n",
        "    result = z_algo.search_pattern(pattern)\n",
        "    print(f\"Pattern found at indices: {result}\")  # Expected: [0, 1, 2, 3]\n",
        "\n",
        "test_case_2()"
      ],
      "metadata": {
        "colab": {
          "base_uri": "https://localhost:8080/"
        },
        "id": "qZGR41gvpuBi",
        "outputId": "24ef4a99-9c52-41b1-fd78-d86165230b99"
      },
      "execution_count": 3,
      "outputs": [
        {
          "output_type": "stream",
          "name": "stdout",
          "text": [
            "Pattern found at indices: [0, 1, 2, 3]\n"
          ]
        }
      ]
    },
    {
      "cell_type": "code",
      "source": [
        "def test_case_3():\n",
        "    text = \"abcdefgh\"\n",
        "    pattern = \"xyz\"\n",
        "    z_algo = ZAlgorithm(text)\n",
        "    result = z_algo.search_pattern(pattern)\n",
        "    print(f\"Pattern found at indices: {result}\")  # Expected: []\n",
        "\n",
        "test_case_3()"
      ],
      "metadata": {
        "colab": {
          "base_uri": "https://localhost:8080/"
        },
        "id": "xeXfXkhlpv6K",
        "outputId": "80527068-4dec-41f7-fe98-585543733872"
      },
      "execution_count": 4,
      "outputs": [
        {
          "output_type": "stream",
          "name": "stdout",
          "text": [
            "Pattern found at indices: []\n"
          ]
        }
      ]
    },
    {
      "cell_type": "code",
      "source": [
        "def test_case_4():\n",
        "    text = \"a\" * 1000 + \"b\"\n",
        "    pattern = \"b\"\n",
        "    z_algo = ZAlgorithm(text)\n",
        "    result = z_algo.search_pattern(pattern)\n",
        "    print(f\"Pattern found at indices: {result}\")  # Expected: [1000]\n",
        "\n",
        "test_case_4()"
      ],
      "metadata": {
        "colab": {
          "base_uri": "https://localhost:8080/"
        },
        "id": "9V6avSa3pyDp",
        "outputId": "e1d61669-cfd0-4e80-b464-4815d064d237"
      },
      "execution_count": 5,
      "outputs": [
        {
          "output_type": "stream",
          "name": "stdout",
          "text": [
            "Pattern found at indices: [1000]\n"
          ]
        }
      ]
    },
    {
      "cell_type": "code",
      "source": [
        "def test_case_5():\n",
        "    text = \"hello\"\n",
        "    pattern = \"hello\"\n",
        "    z_algo = ZAlgorithm(text)\n",
        "    result = z_algo.search_pattern(pattern)\n",
        "    print(f\"Pattern found at indices: {result}\")  # Expected: [0]\n",
        "\n",
        "test_case_5()"
      ],
      "metadata": {
        "colab": {
          "base_uri": "https://localhost:8080/"
        },
        "id": "zJ7-SfxGp0EI",
        "outputId": "8db284a5-0bcc-45aa-db46-d02e5a65f4c2"
      },
      "execution_count": 6,
      "outputs": [
        {
          "output_type": "stream",
          "name": "stdout",
          "text": [
            "Pattern found at indices: [0]\n"
          ]
        }
      ]
    }
  ]
}